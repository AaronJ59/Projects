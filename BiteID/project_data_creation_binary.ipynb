{
  "nbformat": 4,
  "nbformat_minor": 0,
  "metadata": {
    "colab": {
      "provenance": []
    },
    "kernelspec": {
      "name": "python3",
      "display_name": "Python 3"
    },
    "language_info": {
      "name": "python"
    }
  },
  "cells": [
    {
      "cell_type": "markdown",
      "source": [
        "Manually upload binary_data.zip to the base file (not under any folder)"
      ],
      "metadata": {
        "id": "_WXver-lL3Hb"
      }
    },
    {
      "cell_type": "code",
      "execution_count": null,
      "metadata": {
        "id": "E7IVrWEnaTba"
      },
      "outputs": [],
      "source": [
        "import torch\n",
        "import torchvision\n",
        "from torchvision import datasets\n",
        "import os\n",
        "from pathlib import Path"
      ]
    },
    {
      "cell_type": "code",
      "source": [
        "data_dir = Path(\"data/\")\n",
        "image_path = data_dir / \"food_non-food\"\n",
        "\n",
        "train_path = image_path / \"train\"\n",
        "test_path = image_path / \"test\"\n",
        "\n",
        "isExist = os.path.exists(image_path)\n",
        "\n",
        "if isExist:\n",
        "  print(\"Directory already eixsts\")\n",
        "else:\n",
        "  print(\"Creating directory\")\n",
        "  # Create the main train and test directories\n",
        "  os.makedirs(test_path)\n",
        "  os.makedirs(train_path)\n",
        "\n",
        "\n",
        "categories = [\"food\", \"non-food\"]\n",
        "\n",
        "food_categories = [\"pizza\", \"hamburger\", \"lasagna\", \"sushi\", \"steak\"]\n",
        "\n",
        "\n",
        "for category in categories:\n",
        "  train_category_path = train_path / category\n",
        "  test_category_path = test_path / category\n",
        "\n",
        "  # Create the folder if it doesn't exist already\n",
        "  os.makedirs(train_category_path, exist_ok=True)\n",
        "  os.makedirs(test_category_path, exist_ok=True)\n",
        "\n",
        "  if category == \"food\":\n",
        "    for food_category in food_categories:\n",
        "      train_food_category_path = train_path / \"food\" / food_category\n",
        "      test_food_category_path = test_path / \"food\" / food_category\n",
        "\n",
        "      os.makedirs(train_food_category_path, exist_ok=True)\n",
        "      os.makedirs(test_food_category_path, exist_ok=True)\n",
        "\n"
      ],
      "metadata": {
        "colab": {
          "base_uri": "https://localhost:8080/"
        },
        "id": "fChlmjJ_aW_m",
        "outputId": "174b41b0-7447-4492-a4c7-2c2353d5d1e0"
      },
      "execution_count": null,
      "outputs": [
        {
          "output_type": "stream",
          "name": "stdout",
          "text": [
            "Creating directory\n"
          ]
        }
      ]
    },
    {
      "cell_type": "code",
      "source": [
        "train_category_path"
      ],
      "metadata": {
        "colab": {
          "base_uri": "https://localhost:8080/"
        },
        "id": "6vnVVkKsEj8r",
        "outputId": "b0a6c7d1-0a7d-4909-9c05-aafb589b1347"
      },
      "execution_count": null,
      "outputs": [
        {
          "output_type": "execute_result",
          "data": {
            "text/plain": [
              "PosixPath('data/food_non-food/train/non-food')"
            ]
          },
          "metadata": {},
          "execution_count": 82
        }
      ]
    },
    {
      "cell_type": "code",
      "source": [
        "train_data = datasets.Food101(root=data_dir,\n",
        "                              split=\"train\",\n",
        "                              download=True\n",
        ")\n",
        "test_data = datasets.Food101(root=data_dir,\n",
        "                             split=\"test\",\n",
        "                             download=True)"
      ],
      "metadata": {
        "colab": {
          "base_uri": "https://localhost:8080/"
        },
        "id": "dY6JdcWA4qJd",
        "outputId": "9d2a07cd-fcc9-4635-cdb3-ecaf1dbf3fce"
      },
      "execution_count": null,
      "outputs": [
        {
          "output_type": "stream",
          "name": "stdout",
          "text": [
            "Downloading https://data.vision.ee.ethz.ch/cvl/food-101.tar.gz to data/food-101.tar.gz\n"
          ]
        },
        {
          "output_type": "stream",
          "name": "stderr",
          "text": [
            "100%|██████████| 5.00G/5.00G [02:34<00:00, 32.3MB/s]\n"
          ]
        },
        {
          "output_type": "stream",
          "name": "stdout",
          "text": [
            "Extracting data/food-101.tar.gz to data\n"
          ]
        }
      ]
    },
    {
      "cell_type": "code",
      "source": [
        "import random\n",
        "from typing import List\n",
        "\n",
        "food101_path = data_dir / \"food-101\" / \"images\"\n",
        "\n",
        "def get_images(data_splits=[\"train\", \"test\"],\n",
        "               target_classes=[\"pizza\", \"hamburger\", \"lasagna\", \"sushi\", \"steak\"],\n",
        "               amount=0.3):\n",
        "  random.seed(42)\n",
        "\n",
        "  Id_dict = {\"train\": [],\n",
        "             \"test\": []}\n",
        "\n",
        "  for data_split in data_splits:\n",
        "    print(f\"Creating image split for {data_split}\")\n",
        "    path = data_dir / \"food-101\" / \"meta\" / (data_split + \".txt\")\n",
        "\n",
        "    with open(path, \"r\") as f:\n",
        "      lines = f.readlines()\n",
        "      for line in lines:\n",
        "        line = line.strip()\n",
        "\n",
        "        class_name = line.split(\"/\")[0]\n",
        "\n",
        "        if class_name in target_classes:\n",
        "          image_dir_path = Path(f\"data/food-101/images/{line}.jpg\")\n",
        "          # Fill up the dictionary with all the data paths for the images\n",
        "          Id_dict[data_split].append(image_dir_path)\n",
        "\n",
        "    # Now randomly pick {amount}% of those image paths to keep.\n",
        "    values = Id_dict[data_split]\n",
        "    num_to_keep = round(len(values) * amount)\n",
        "    randomly_chosen_image_paths = random.sample(values, k=num_to_keep)\n",
        "    Id_dict[data_split] = randomly_chosen_image_paths\n",
        "\n",
        "  return Id_dict\n",
        "\n",
        "\n",
        "\n"
      ],
      "metadata": {
        "id": "N3lwfXKV62ir"
      },
      "execution_count": null,
      "outputs": []
    },
    {
      "cell_type": "code",
      "source": [
        "Id_dict = get_images()"
      ],
      "metadata": {
        "colab": {
          "base_uri": "https://localhost:8080/"
        },
        "id": "LKv9gyd00QhS",
        "outputId": "194e5681-9af9-4c4d-a995-fe6c37ec3b1b"
      },
      "execution_count": null,
      "outputs": [
        {
          "output_type": "stream",
          "name": "stdout",
          "text": [
            "Creating image split for train\n",
            "Creating image split for test\n"
          ]
        }
      ]
    },
    {
      "cell_type": "code",
      "source": [
        "import os\n",
        "from pathlib import Path\n",
        "import shutil\n",
        "\n",
        "target_base_dir = Path(\"data/food_non-food\")\n",
        "\n",
        "train_target = target_base_dir / \"train\" / \"food\"\n",
        "test_target = target_base_dir / \"test\" / \"food\"\n",
        "\n",
        "def copy_images(data_split=[\"train\", \"test\"],\n",
        "                target_path=None):\n",
        "  for file_path in Id_dict[data_split]:\n",
        "    food_category = file_path.parts[-2]\n",
        "\n",
        "    food_category_dir = target_path / food_category\n",
        "\n",
        "    shutil.copy(file_path, food_category_dir)\n",
        "\n",
        "\n",
        "copy_images(\"train\", train_target)\n",
        "copy_images(\"test\", test_target)\n",
        "print(\"Successfully copied images\")"
      ],
      "metadata": {
        "colab": {
          "base_uri": "https://localhost:8080/"
        },
        "id": "qaCyCku4B74g",
        "outputId": "fc678836-4bd4-47cd-a224-847616e66903"
      },
      "execution_count": null,
      "outputs": [
        {
          "output_type": "stream",
          "name": "stdout",
          "text": [
            "Successfully copied images\n"
          ]
        }
      ]
    },
    {
      "cell_type": "code",
      "source": [
        "# Transport all the images from its food categories into the general 'food' folder.\n",
        "\n",
        "food_categories = ['hamburger', 'lasagna', 'pizza', 'sushi', 'steak']\n",
        "splits = [\"train\", \"test\"]\n",
        "\n",
        "for split in splits:\n",
        "  foodnonfood_dir = Path(\"data/food_non-food\")\n",
        "  split_dir = foodnonfood_dir / split\n",
        "\n",
        "  for category in food_categories:\n",
        "    food_dir = split_dir / \"food\"\n",
        "    food_category_dir = food_dir / category\n",
        "\n",
        "    for image_id in os.listdir(food_category_dir):\n",
        "      shutil.move(os.path.join(food_category_dir, image_id), food_dir)\n",
        "\n",
        "\n",
        "\n",
        "\n",
        "\n",
        "\n",
        "\n",
        "\n",
        "\n"
      ],
      "metadata": {
        "id": "nt9LzVgYAvSr"
      },
      "execution_count": null,
      "outputs": []
    },
    {
      "cell_type": "markdown",
      "source": [
        "Manually upload binary_data.zip\n"
      ],
      "metadata": {
        "id": "5IkqOcjuwW6p"
      }
    },
    {
      "cell_type": "code",
      "source": [
        "import zipfile\n",
        "\n",
        "with zipfile.ZipFile('binary_data.zip', 'r') as zip_ref:\n",
        "    zip_ref.extractall()"
      ],
      "metadata": {
        "id": "aXwGGq_gx87u"
      },
      "execution_count": null,
      "outputs": []
    },
    {
      "cell_type": "code",
      "source": [
        "import os\n",
        "import random\n",
        "import shutil\n",
        "\n",
        "# Define the source and destination folders\n",
        "source_folder = \"binary_data/nonfood\"\n",
        "train_nonfood = \"data/food_non-food/train/non-food\"\n",
        "test_nonfood = \"data/food_non-food/test/non-food\"\n",
        "\n",
        "os.makedirs(train_nonfood, exist_ok=True)\n",
        "os.makedirs(test_nonfood, exist_ok=True)\n",
        "\n",
        "image_files = [f for f in os.listdir(source_folder)] # Get all the image_files/ids. For ex: '1234.jpg'\n",
        "\n",
        "random.shuffle(image_files)\n",
        "\n",
        "\n",
        "# Doing a 75-25 split. 75% of 1500 images is 1125.\n",
        "\n",
        "train_split_images = image_files[:1125] # Split the first 1125 images to train\n",
        "test_split_images = image_files[1125:] # Split all the images that come after (which is 375 images) and hand it to train\n",
        "\n",
        "for image_id in train_split_images:\n",
        "  shutil.move(os.path.join(source_folder, image_id), train_nonfood)\n",
        "\n",
        "\n",
        "for image_id in test_split_images:\n",
        "  shutil.move(os.path.join(source_folder, image_id), test_nonfood)\n"
      ],
      "metadata": {
        "id": "kgU70AJJskto"
      },
      "execution_count": null,
      "outputs": []
    },
    {
      "cell_type": "code",
      "source": [
        "def walk_through_dir(dir_path):\n",
        "    \"\"\"\n",
        "    Walks through dir_path returning its contents.\n",
        "    Args:\n",
        "    dir_path (str): target directory\n",
        "\n",
        "    Returns:\n",
        "    A print out of:\n",
        "      number of subdiretories in dir_path\n",
        "      number of images (files) in each subdirectory\n",
        "      name of each subdirectory\n",
        "    \"\"\"\n",
        "    for dirpath, dirnames, filenames in os.walk(dir_path):\n",
        "        print(f\"There are {len(dirnames)} directories and {len(filenames)} images in '{dirpath}'.\")"
      ],
      "metadata": {
        "id": "roM77KWJLtio"
      },
      "execution_count": null,
      "outputs": []
    },
    {
      "cell_type": "code",
      "source": [
        "walk_through_dir(\"data/food_non-food\")"
      ],
      "metadata": {
        "colab": {
          "base_uri": "https://localhost:8080/"
        },
        "id": "JXI-14LkLwCj",
        "outputId": "5fbbaea2-da6f-414d-f61e-8cdc5c3c129d"
      },
      "execution_count": null,
      "outputs": [
        {
          "output_type": "stream",
          "name": "stdout",
          "text": [
            "There are 2 directories and 0 images in 'data/food_non-food'.\n",
            "There are 2 directories and 0 images in 'data/food_non-food/train'.\n",
            "There are 1 directories and 1125 images in 'data/food_non-food/train/food'.\n",
            "There are 0 directories and 0 images in 'data/food_non-food/train/food/.ipynb_checkpoints'.\n",
            "There are 0 directories and 1125 images in 'data/food_non-food/train/non-food'.\n",
            "There are 2 directories and 0 images in 'data/food_non-food/test'.\n",
            "There are 1 directories and 375 images in 'data/food_non-food/test/food'.\n",
            "There are 0 directories and 0 images in 'data/food_non-food/test/food/.ipynb_checkpoints'.\n",
            "There are 0 directories and 375 images in 'data/food_non-food/test/non-food'.\n"
          ]
        }
      ]
    },
    {
      "cell_type": "code",
      "source": [
        "!rm -rf data/food-101/"
      ],
      "metadata": {
        "id": "_KdIQcnUN__C"
      },
      "execution_count": null,
      "outputs": []
    },
    {
      "cell_type": "code",
      "source": [
        "# Turn directory into a zip file\n",
        "\n",
        "\n",
        "import shutil\n",
        "shutil.make_archive(\"binary_dataset\", 'zip', \"data\")"
      ],
      "metadata": {
        "colab": {
          "base_uri": "https://localhost:8080/",
          "height": 36
        },
        "id": "yADEYzA_NufM",
        "outputId": "ed54416b-4660-4423-c334-7d54920c4ceb"
      },
      "execution_count": null,
      "outputs": [
        {
          "output_type": "execute_result",
          "data": {
            "text/plain": [
              "'/content/binary_dataset.zip'"
            ],
            "application/vnd.google.colaboratory.intrinsic+json": {
              "type": "string"
            }
          },
          "metadata": {},
          "execution_count": 132
        }
      ]
    }
  ]
}