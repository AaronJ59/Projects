{
  "nbformat": 4,
  "nbformat_minor": 0,
  "metadata": {
    "colab": {
      "provenance": []
    },
    "kernelspec": {
      "name": "python3",
      "display_name": "Python 3"
    },
    "language_info": {
      "name": "python"
    }
  },
  "cells": [
    {
      "cell_type": "code",
      "execution_count": 1,
      "metadata": {
        "id": "OTdREozMcrkI"
      },
      "outputs": [],
      "source": [
        "import torch\n",
        "import torchvision\n",
        "from torchvision import datasets\n",
        "import os\n",
        "from pathlib import Path"
      ]
    },
    {
      "cell_type": "code",
      "source": [
        "data_dir = Path(\"data/\")\n",
        "image_path = data_dir / \"pizza_hamburger_lasagna_sushi_steak\"\n",
        "train_path = image_path / \"train\"\n",
        "test_path = image_path / \"test\"\n",
        "\n",
        "isExist = os.path.exists(image_path)\n",
        "\n",
        "if isExist:\n",
        "  print(\"Directory already eixsts\")\n",
        "else:\n",
        "  print(\"Creating directory\")\n",
        "  # Create the main train and test directories\n",
        "  os.makedirs(test_path)\n",
        "  os.makedirs(train_path)\n",
        "\n",
        "food_categories = [\"pizza\", \"hamburger\", \"lasagna\", \"sushi\", \"steak\"]\n",
        "\n",
        "# Create subdirectories for each food category in both train and test folders\n",
        "for category in food_categories:\n",
        "  train_category_path = train_path / category\n",
        "  test_category_path = test_path / category\n",
        "\n",
        "  # Create the folder if it doesn't exist already\n",
        "  os.makedirs(train_category_path, exist_ok=True)\n",
        "  os.makedirs(test_category_path, exist_ok=True)"
      ],
      "metadata": {
        "colab": {
          "base_uri": "https://localhost:8080/"
        },
        "id": "WNs2Xk9odQqH",
        "outputId": "fbaadf4f-69f9-4ee1-c97c-01efb52da32b"
      },
      "execution_count": 2,
      "outputs": [
        {
          "output_type": "stream",
          "name": "stdout",
          "text": [
            "Creating directory\n"
          ]
        }
      ]
    },
    {
      "cell_type": "code",
      "source": [
        "train_data = datasets.Food101(root=data_dir,\n",
        "                              split=\"train\",\n",
        "                              download=True\n",
        ")\n",
        "test_data = datasets.Food101(root=data_dir,\n",
        "                             split=\"test\",\n",
        "                             download=True)"
      ],
      "metadata": {
        "id": "Y6k4t5GsVYhC",
        "colab": {
          "base_uri": "https://localhost:8080/"
        },
        "outputId": "341af3e4-69e7-4c5b-be7c-7dae870ee822"
      },
      "execution_count": 3,
      "outputs": [
        {
          "output_type": "stream",
          "name": "stdout",
          "text": [
            "Downloading https://data.vision.ee.ethz.ch/cvl/food-101.tar.gz to data/food-101.tar.gz\n"
          ]
        },
        {
          "output_type": "stream",
          "name": "stderr",
          "text": [
            "100%|██████████| 5.00G/5.00G [02:32<00:00, 32.9MB/s]\n"
          ]
        },
        {
          "output_type": "stream",
          "name": "stdout",
          "text": [
            "Extracting data/food-101.tar.gz to data\n"
          ]
        }
      ]
    },
    {
      "cell_type": "code",
      "source": [
        "import random\n",
        "\n",
        "food101_path = data_dir / \"food-101\" / \"images\"\n",
        "\n",
        "def get_images(data_splits=[\"train\", \"test\"],\n",
        "               target_classes=[\"pizza\", \"hamburger\", \"lasagna\", \"sushi\", \"steak\"],\n",
        "               amount=0.3):\n",
        "  random.seed(42)\n",
        "\n",
        "  Id_dict = {\"train\": [],\n",
        "             \"test\": []}\n",
        "\n",
        "  for data_split in data_splits:\n",
        "    print(f\"Creating image split for {data_split}\")\n",
        "    path = data_dir / \"food-101\" / \"meta\" / (data_split + \".txt\")\n",
        "\n",
        "    with open(path, \"r\") as f:\n",
        "      lines = f.readlines()\n",
        "      for line in lines:\n",
        "        line = line.strip()\n",
        "\n",
        "        class_name = line.split(\"/\")[0]\n",
        "\n",
        "        if class_name in target_classes:\n",
        "          image_dir_path = Path(f\"data/food-101/images/{line}.jpg\")\n",
        "          # Fill up the dictionary with all the data paths for the images\n",
        "          Id_dict[data_split].append(image_dir_path)\n",
        "\n",
        "    # Now randomly pick 20% of those image paths to keep.\n",
        "    values = Id_dict[data_split]\n",
        "    num_to_keep = round(len(values) * amount)\n",
        "    randomly_chosen_image_paths = random.sample(values, k=num_to_keep)\n",
        "    Id_dict[data_split] = randomly_chosen_image_paths\n",
        "\n",
        "  return Id_dict\n",
        "\n",
        "\n",
        "\n"
      ],
      "metadata": {
        "id": "kiznXSKsefhh",
        "collapsed": true
      },
      "execution_count": 4,
      "outputs": []
    },
    {
      "cell_type": "code",
      "source": [
        "Id_dict = get_images()"
      ],
      "metadata": {
        "colab": {
          "base_uri": "https://localhost:8080/"
        },
        "id": "QUuz3juoyFdA",
        "outputId": "8c4abe4b-ac59-4325-8e9b-fb39b1fb4b80"
      },
      "execution_count": 5,
      "outputs": [
        {
          "output_type": "stream",
          "name": "stdout",
          "text": [
            "Creating image split for train\n",
            "Creating image split for test\n"
          ]
        }
      ]
    },
    {
      "cell_type": "code",
      "source": [
        "import os\n",
        "from pathlib import Path\n",
        "import shutil\n",
        "\n",
        "target_base_dir = Path(\"data/pizza_hamburger_lasagna_sushi_steak\")\n",
        "train_target = target_base_dir / \"train\"\n",
        "test_target = target_base_dir / \"test\"\n",
        "\n",
        "def copy_images(data_split=[\"train\", \"test\"],\n",
        "                target_path=None):\n",
        "  for file_path in Id_dict[data_split]:\n",
        "    food_category = file_path.parts[-2]\n",
        "\n",
        "    food_category_dir = target_path / food_category\n",
        "\n",
        "    shutil.copy(file_path, food_category_dir)\n",
        "\n",
        "\n",
        "\n",
        "copy_images(\"train\", train_target)\n",
        "copy_images(\"test\", test_target)\n",
        "print(\"Successfully copied images to pizza_hamburger_lasagna_sushi_steak\")"
      ],
      "metadata": {
        "id": "OMZTAl0G4NqB",
        "colab": {
          "base_uri": "https://localhost:8080/"
        },
        "outputId": "6e95db4d-11fe-4e2a-cf30-bdc359133e68"
      },
      "execution_count": 6,
      "outputs": [
        {
          "output_type": "stream",
          "name": "stdout",
          "text": [
            "Successfully copied images to pizza_hamburger_lasagna_sushi_steak\n"
          ]
        }
      ]
    },
    {
      "cell_type": "code",
      "source": [
        "# Path to the directory you want to zip\n",
        "dir_to_zip = Path(\"data/pizza_hamburger_lasagna_sushi_steak\")\n",
        "\n",
        "# Create a zip file\n",
        "output_filename = \"pizza_hamburger_lasagna_sushi_steak\"  # This will be the name of the output zip file\n",
        "\n",
        "shutil.make_archive(output_filename, 'zip', root_dir=dir_to_zip)\n",
        "\n",
        "print(f\"'{output_filename}.zip' has been successfully created.\")"
      ],
      "metadata": {
        "colab": {
          "base_uri": "https://localhost:8080/"
        },
        "id": "77HNifE-Zx0U",
        "outputId": "1efbd8e4-27ea-4015-d462-159e59809008"
      },
      "execution_count": 10,
      "outputs": [
        {
          "output_type": "stream",
          "name": "stdout",
          "text": [
            "'pizza_hamburger_lasagna_sushi_steak.zip' has been successfully created.\n"
          ]
        }
      ]
    }
  ]
}